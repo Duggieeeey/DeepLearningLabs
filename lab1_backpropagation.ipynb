{
 "cells": [
  {
   "cell_type": "code",
   "execution_count": 2,
   "id": "b7f31581",
   "metadata": {},
   "outputs": [
    {
     "name": "stdout",
     "output_type": "stream",
     "text": [
      "f(x, w) = 0.3598661934080033\n",
      "df/dw1 = -0.1177573604042027\n",
      "df/dw2 = 0.19376890306779226\n"
     ]
    }
   ],
   "source": [
    "#1-Practice of scalar-based backpropagation\n",
    "import numpy as np\n",
    "\n",
    "# Define the function f(x, w)\n",
    "def f(x1, x2, w1, w2):\n",
    "    denominator = 2 + np.sin(x1 * w1) ** 2 + np.cos(x2 * w2)\n",
    "    return 1.0 / denominator\n",
    "\n",
    "# Define the gradient computation function\n",
    "def compute_gradients(x1, x2, w1, w2):\n",
    "    denominator = 2 + np.sin(x1 * w1) ** 2 + np.cos(x2 * w2)\n",
    "    df_dw1 = -(2 * x1 * w1 * np.sin(x1 * w1) * np.cos(x1 * w1)) / (denominator ** 2)\n",
    "    df_dw2 = (x2 * w2 * np.sin(x2 * w2)) / (denominator ** 2)\n",
    "    return df_dw1, df_dw2\n",
    "\n",
    "# Set values for inputs x1, x2, w1, and w2\n",
    "x1 = 0.5\n",
    "x2 = 1.0\n",
    "w1 = 2.0\n",
    "w2 = 1.5\n",
    "\n",
    "# Calculate the function value\n",
    "result = f(x1, x2, w1, w2)\n",
    "\n",
    "# Compute the gradients\n",
    "gradients = compute_gradients(x1, x2, w1, w2)\n",
    "\n",
    "# Print the results\n",
    "print(\"f(x, w) =\", result)\n",
    "print(\"df/dw1 =\", gradients[0])\n",
    "print(\"df/dw2 =\", gradients[1])"
   ]
  },
  {
   "cell_type": "code",
   "execution_count": 2,
   "id": "2c2f834f",
   "metadata": {},
   "outputs": [
    {
     "name": "stdout",
     "output_type": "stream",
     "text": [
      "f(x, W) = 0.9860061236817519\n",
      "Gradients with respect to W:\n",
      "[[0.04899499 0.09798998 0.14698497]\n",
      " [0.04884572 0.09769144 0.14653715]\n",
      " [0.04893361 0.09786721 0.14680082]]\n"
     ]
    }
   ],
   "source": [
    "#2-Practice of vector-based backpropagation\n",
    "import numpy as np\n",
    "\n",
    "# Define the sigmoid function\n",
    "def sigmoid(x):\n",
    "    return 1 / (1 + np.exp(-x))\n",
    "\n",
    "# Define the function f(x, w)\n",
    "def f(x, W):\n",
    "    return np.linalg.norm(sigmoid(np.dot(W, x)))**2\n",
    "\n",
    "# Define the gradient computation function\n",
    "def compute_gradients(x, W):\n",
    "    z = np.dot(W, x)\n",
    "    sigmoid_z = sigmoid(z)\n",
    "    squared_norm = np.linalg.norm(sigmoid_z)**2\n",
    "    grad_W = 2 * np.outer(sigmoid_z * (1 - sigmoid_z), x)\n",
    "    return grad_W\n",
    "\n",
    "# Set values for the input x and weight matrix W\n",
    "x = np.array([0.1, 0.2, 0.3])\n",
    "W = np.random.rand(3, 3)  # Initialize W with random values\n",
    "\n",
    "# Calculate the function value\n",
    "result = f(x, W)\n",
    "\n",
    "# Compute the gradients\n",
    "gradients = compute_gradients(x, W)\n",
    "\n",
    "# Print the results\n",
    "print(\"f(x, W) =\", result)\n",
    "print(\"Gradients with respect to W:\")\n",
    "print(gradients)"
   ]
  }
 ],
 "metadata": {
  "kernelspec": {
   "display_name": "Python 3 (ipykernel)",
   "language": "python",
   "name": "python3"
  },
  "language_info": {
   "codemirror_mode": {
    "name": "ipython",
    "version": 3
   },
   "file_extension": ".py",
   "mimetype": "text/x-python",
   "name": "python",
   "nbconvert_exporter": "python",
   "pygments_lexer": "ipython3",
   "version": "3.9.12"
  }
 },
 "nbformat": 4,
 "nbformat_minor": 5
}
